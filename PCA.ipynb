{
 "cells": [
  {
   "cell_type": "markdown",
   "metadata": {},
   "source": [
    "#  Apply Principal Component Analysis (PCA) on Pizza Dataset.\n"
   ]
  },
  {
   "cell_type": "markdown",
   "metadata": {},
   "source": [
    "###### Who likes pizza? The data set contains measurements that capture the kind of things that make a pizza tasty. The variables in the data set are:brand -- Pizza brand (class label)\n",
    "###### id -- Sample analysed\n",
    "###### mois -- Amount of water per 100 grams in the sample\n",
    "###### prot -- Amount of protein per 100 grams in the sample\n",
    "###### fat -- Amount of fat per 100 grams in the sample\n",
    "###### ash -- Amount of ash per 100 grams in the sample\n",
    "###### sodium -- Amount of sodium per 100 grams in the sample\n",
    "###### carb -- Amount of carbohydrates per 100 grams in the sample\n",
    "###### cal -- Amount of calories per 100 grams in the sample"
   ]
  },
  {
   "cell_type": "markdown",
   "metadata": {},
   "source": [
    "## Import Libraries"
   ]
  },
  {
   "cell_type": "code",
   "execution_count": 56,
   "metadata": {},
   "outputs": [],
   "source": [
    "import pandas as pd\n",
    "import numpy as np\n",
    "import seaborn as sns\n",
    "import matplotlib.pyplot as plt\n",
    "from sklearn.decomposition import PCA\n",
    "from sklearn.preprocessing import MinMaxScaler\n",
    "from sklearn.preprocessing import StandardScaler\n",
    "from sklearn import preprocessing \n",
    "%matplotlib inline"
   ]
  },
  {
   "cell_type": "markdown",
   "metadata": {},
   "source": [
    "# Reading the Data\n",
    "Storing csv file in a data variable "
   ]
  },
  {
   "cell_type": "code",
   "execution_count": 11,
   "metadata": {},
   "outputs": [
    {
     "data": {
      "text/html": [
       "<div>\n",
       "<style scoped>\n",
       "    .dataframe tbody tr th:only-of-type {\n",
       "        vertical-align: middle;\n",
       "    }\n",
       "\n",
       "    .dataframe tbody tr th {\n",
       "        vertical-align: top;\n",
       "    }\n",
       "\n",
       "    .dataframe thead th {\n",
       "        text-align: right;\n",
       "    }\n",
       "</style>\n",
       "<table border=\"1\" class=\"dataframe\">\n",
       "  <thead>\n",
       "    <tr style=\"text-align: right;\">\n",
       "      <th></th>\n",
       "      <th>brand</th>\n",
       "      <th>id</th>\n",
       "      <th>mois</th>\n",
       "      <th>prot</th>\n",
       "      <th>fat</th>\n",
       "      <th>ash</th>\n",
       "      <th>sodium</th>\n",
       "      <th>carb</th>\n",
       "      <th>cal</th>\n",
       "    </tr>\n",
       "  </thead>\n",
       "  <tbody>\n",
       "    <tr>\n",
       "      <th>0</th>\n",
       "      <td>A</td>\n",
       "      <td>14069</td>\n",
       "      <td>27.82</td>\n",
       "      <td>21.43</td>\n",
       "      <td>44.87</td>\n",
       "      <td>5.11</td>\n",
       "      <td>1.77</td>\n",
       "      <td>0.77</td>\n",
       "      <td>4.93</td>\n",
       "    </tr>\n",
       "    <tr>\n",
       "      <th>1</th>\n",
       "      <td>A</td>\n",
       "      <td>14053</td>\n",
       "      <td>28.49</td>\n",
       "      <td>21.26</td>\n",
       "      <td>43.89</td>\n",
       "      <td>5.34</td>\n",
       "      <td>1.79</td>\n",
       "      <td>1.02</td>\n",
       "      <td>4.84</td>\n",
       "    </tr>\n",
       "    <tr>\n",
       "      <th>2</th>\n",
       "      <td>A</td>\n",
       "      <td>14025</td>\n",
       "      <td>28.35</td>\n",
       "      <td>19.99</td>\n",
       "      <td>45.78</td>\n",
       "      <td>5.08</td>\n",
       "      <td>1.63</td>\n",
       "      <td>0.80</td>\n",
       "      <td>4.95</td>\n",
       "    </tr>\n",
       "    <tr>\n",
       "      <th>3</th>\n",
       "      <td>A</td>\n",
       "      <td>14016</td>\n",
       "      <td>30.55</td>\n",
       "      <td>20.15</td>\n",
       "      <td>43.13</td>\n",
       "      <td>4.79</td>\n",
       "      <td>1.61</td>\n",
       "      <td>1.38</td>\n",
       "      <td>4.74</td>\n",
       "    </tr>\n",
       "    <tr>\n",
       "      <th>4</th>\n",
       "      <td>A</td>\n",
       "      <td>14005</td>\n",
       "      <td>30.49</td>\n",
       "      <td>21.28</td>\n",
       "      <td>41.65</td>\n",
       "      <td>4.82</td>\n",
       "      <td>1.64</td>\n",
       "      <td>1.76</td>\n",
       "      <td>4.67</td>\n",
       "    </tr>\n",
       "    <tr>\n",
       "      <th>...</th>\n",
       "      <td>...</td>\n",
       "      <td>...</td>\n",
       "      <td>...</td>\n",
       "      <td>...</td>\n",
       "      <td>...</td>\n",
       "      <td>...</td>\n",
       "      <td>...</td>\n",
       "      <td>...</td>\n",
       "      <td>...</td>\n",
       "    </tr>\n",
       "    <tr>\n",
       "      <th>295</th>\n",
       "      <td>J</td>\n",
       "      <td>34044</td>\n",
       "      <td>44.91</td>\n",
       "      <td>11.07</td>\n",
       "      <td>17.00</td>\n",
       "      <td>2.49</td>\n",
       "      <td>0.66</td>\n",
       "      <td>25.36</td>\n",
       "      <td>2.91</td>\n",
       "    </tr>\n",
       "    <tr>\n",
       "      <th>296</th>\n",
       "      <td>J</td>\n",
       "      <td>24069</td>\n",
       "      <td>43.15</td>\n",
       "      <td>11.79</td>\n",
       "      <td>18.46</td>\n",
       "      <td>2.43</td>\n",
       "      <td>0.67</td>\n",
       "      <td>24.17</td>\n",
       "      <td>3.10</td>\n",
       "    </tr>\n",
       "    <tr>\n",
       "      <th>297</th>\n",
       "      <td>J</td>\n",
       "      <td>34039</td>\n",
       "      <td>44.55</td>\n",
       "      <td>11.01</td>\n",
       "      <td>16.03</td>\n",
       "      <td>2.43</td>\n",
       "      <td>0.64</td>\n",
       "      <td>25.98</td>\n",
       "      <td>2.92</td>\n",
       "    </tr>\n",
       "    <tr>\n",
       "      <th>298</th>\n",
       "      <td>J</td>\n",
       "      <td>14044</td>\n",
       "      <td>47.60</td>\n",
       "      <td>10.43</td>\n",
       "      <td>15.18</td>\n",
       "      <td>2.32</td>\n",
       "      <td>0.56</td>\n",
       "      <td>24.47</td>\n",
       "      <td>2.76</td>\n",
       "    </tr>\n",
       "    <tr>\n",
       "      <th>299</th>\n",
       "      <td>J</td>\n",
       "      <td>14045</td>\n",
       "      <td>46.84</td>\n",
       "      <td>9.91</td>\n",
       "      <td>15.50</td>\n",
       "      <td>2.27</td>\n",
       "      <td>0.57</td>\n",
       "      <td>25.48</td>\n",
       "      <td>2.81</td>\n",
       "    </tr>\n",
       "  </tbody>\n",
       "</table>\n",
       "<p>300 rows × 9 columns</p>\n",
       "</div>"
      ],
      "text/plain": [
       "    brand     id   mois   prot    fat   ash  sodium   carb   cal\n",
       "0       A  14069  27.82  21.43  44.87  5.11    1.77   0.77  4.93\n",
       "1       A  14053  28.49  21.26  43.89  5.34    1.79   1.02  4.84\n",
       "2       A  14025  28.35  19.99  45.78  5.08    1.63   0.80  4.95\n",
       "3       A  14016  30.55  20.15  43.13  4.79    1.61   1.38  4.74\n",
       "4       A  14005  30.49  21.28  41.65  4.82    1.64   1.76  4.67\n",
       "..    ...    ...    ...    ...    ...   ...     ...    ...   ...\n",
       "295     J  34044  44.91  11.07  17.00  2.49    0.66  25.36  2.91\n",
       "296     J  24069  43.15  11.79  18.46  2.43    0.67  24.17  3.10\n",
       "297     J  34039  44.55  11.01  16.03  2.43    0.64  25.98  2.92\n",
       "298     J  14044  47.60  10.43  15.18  2.32    0.56  24.47  2.76\n",
       "299     J  14045  46.84   9.91  15.50  2.27    0.57  25.48  2.81\n",
       "\n",
       "[300 rows x 9 columns]"
      ]
     },
     "execution_count": 11,
     "metadata": {},
     "output_type": "execute_result"
    }
   ],
   "source": [
    "df=pd.read_csv('pizza.csv')\n",
    "df"
   ]
  },
  {
   "cell_type": "markdown",
   "metadata": {},
   "source": [
    "# Inspect the dataframe"
   ]
  },
  {
   "cell_type": "code",
   "execution_count": 12,
   "metadata": {},
   "outputs": [
    {
     "name": "stdout",
     "output_type": "stream",
     "text": [
      "<class 'pandas.core.frame.DataFrame'>\n",
      "RangeIndex: 300 entries, 0 to 299\n",
      "Data columns (total 9 columns):\n",
      " #   Column  Non-Null Count  Dtype  \n",
      "---  ------  --------------  -----  \n",
      " 0   brand   300 non-null    object \n",
      " 1   id      300 non-null    int64  \n",
      " 2   mois    300 non-null    float64\n",
      " 3   prot    300 non-null    float64\n",
      " 4   fat     300 non-null    float64\n",
      " 5   ash     300 non-null    float64\n",
      " 6   sodium  300 non-null    float64\n",
      " 7   carb    300 non-null    float64\n",
      " 8   cal     300 non-null    float64\n",
      "dtypes: float64(7), int64(1), object(1)\n",
      "memory usage: 21.2+ KB\n"
     ]
    }
   ],
   "source": [
    "df.info()"
   ]
  },
  {
   "cell_type": "markdown",
   "metadata": {},
   "source": [
    "# Checking Object values"
   ]
  },
  {
   "cell_type": "code",
   "execution_count": 16,
   "metadata": {},
   "outputs": [
    {
     "data": {
      "text/plain": [
       "array(['A', 'B', 'C', 'D', 'E', 'F', 'G', 'H', 'I', 'J'], dtype=object)"
      ]
     },
     "execution_count": 16,
     "metadata": {},
     "output_type": "execute_result"
    }
   ],
   "source": [
    "df.brand.unique()"
   ]
  },
  {
   "cell_type": "markdown",
   "metadata": {},
   "source": [
    "# Brand count"
   ]
  },
  {
   "cell_type": "code",
   "execution_count": 17,
   "metadata": {},
   "outputs": [
    {
     "data": {
      "text/plain": [
       "H    33\n",
       "D    32\n",
       "J    32\n",
       "B    31\n",
       "F    30\n",
       "I    29\n",
       "G    29\n",
       "A    29\n",
       "E    28\n",
       "C    27\n",
       "Name: brand, dtype: int64"
      ]
     },
     "execution_count": 17,
     "metadata": {},
     "output_type": "execute_result"
    }
   ],
   "source": [
    "df['brand'].value_counts()"
   ]
  },
  {
   "cell_type": "markdown",
   "metadata": {},
   "source": [
    "# Bar-Graph based on Brand"
   ]
  },
  {
   "cell_type": "code",
   "execution_count": 18,
   "metadata": {},
   "outputs": [
    {
     "name": "stderr",
     "output_type": "stream",
     "text": [
      "D:\\anaconda3\\lib\\site-packages\\seaborn\\_decorators.py:36: FutureWarning: Pass the following variable as a keyword arg: x. From version 0.12, the only valid positional argument will be `data`, and passing other arguments without an explicit keyword will result in an error or misinterpretation.\n",
      "  warnings.warn(\n"
     ]
    },
    {
     "data": {
      "text/plain": [
       "<AxesSubplot:xlabel='brand', ylabel='count'>"
      ]
     },
     "execution_count": 18,
     "metadata": {},
     "output_type": "execute_result"
    },
    {
     "data": {
      "image/png": "[encoded data removed]",
      "text/plain": [
       "<Figure size 432x288 with 1 Axes>"
      ]
     },
     "metadata": {
      "needs_background": "light"
     },
     "output_type": "display_data"
    }
   ],
   "source": [
    "sns.countplot(df['brand'], palette='husl')"
   ]
  },
  {
   "cell_type": "markdown",
   "metadata": {},
   "source": [
    "# The pairwise correlation of all columns in the dataframe"
   ]
  },
  {
   "cell_type": "code",
   "execution_count": 25,
   "metadata": {},
   "outputs": [
    {
     "data": {
      "text/html": [
       "<div>\n",
       "<style scoped>\n",
       "    .dataframe tbody tr th:only-of-type {\n",
       "        vertical-align: middle;\n",
       "    }\n",
       "\n",
       "    .dataframe tbody tr th {\n",
       "        vertical-align: top;\n",
       "    }\n",
       "\n",
       "    .dataframe thead th {\n",
       "        text-align: right;\n",
       "    }\n",
       "</style>\n",
       "<table border=\"1\" class=\"dataframe\">\n",
       "  <thead>\n",
       "    <tr style=\"text-align: right;\">\n",
       "      <th></th>\n",
       "      <th>id</th>\n",
       "      <th>mois</th>\n",
       "      <th>prot</th>\n",
       "      <th>fat</th>\n",
       "      <th>ash</th>\n",
       "      <th>sodium</th>\n",
       "      <th>carb</th>\n",
       "      <th>cal</th>\n",
       "    </tr>\n",
       "  </thead>\n",
       "  <tbody>\n",
       "    <tr>\n",
       "      <th>id</th>\n",
       "      <td>1.000000</td>\n",
       "      <td>0.032595</td>\n",
       "      <td>-0.076485</td>\n",
       "      <td>-0.004860</td>\n",
       "      <td>-0.034072</td>\n",
       "      <td>-0.015156</td>\n",
       "      <td>0.014966</td>\n",
       "      <td>-0.021209</td>\n",
       "    </tr>\n",
       "    <tr>\n",
       "      <th>mois</th>\n",
       "      <td>0.032595</td>\n",
       "      <td>1.000000</td>\n",
       "      <td>0.360248</td>\n",
       "      <td>-0.171318</td>\n",
       "      <td>0.265556</td>\n",
       "      <td>-0.102279</td>\n",
       "      <td>-0.591802</td>\n",
       "      <td>-0.764441</td>\n",
       "    </tr>\n",
       "    <tr>\n",
       "      <th>prot</th>\n",
       "      <td>-0.076485</td>\n",
       "      <td>0.360248</td>\n",
       "      <td>1.000000</td>\n",
       "      <td>0.498002</td>\n",
       "      <td>0.823844</td>\n",
       "      <td>0.429130</td>\n",
       "      <td>-0.853542</td>\n",
       "      <td>0.070258</td>\n",
       "    </tr>\n",
       "    <tr>\n",
       "      <th>fat</th>\n",
       "      <td>-0.004860</td>\n",
       "      <td>-0.171318</td>\n",
       "      <td>0.498002</td>\n",
       "      <td>1.000000</td>\n",
       "      <td>0.791634</td>\n",
       "      <td>0.933325</td>\n",
       "      <td>-0.640238</td>\n",
       "      <td>0.764567</td>\n",
       "    </tr>\n",
       "    <tr>\n",
       "      <th>ash</th>\n",
       "      <td>-0.034072</td>\n",
       "      <td>0.265556</td>\n",
       "      <td>0.823844</td>\n",
       "      <td>0.791634</td>\n",
       "      <td>1.000000</td>\n",
       "      <td>0.808122</td>\n",
       "      <td>-0.898988</td>\n",
       "      <td>0.326468</td>\n",
       "    </tr>\n",
       "    <tr>\n",
       "      <th>sodium</th>\n",
       "      <td>-0.015156</td>\n",
       "      <td>-0.102279</td>\n",
       "      <td>0.429130</td>\n",
       "      <td>0.933325</td>\n",
       "      <td>0.808122</td>\n",
       "      <td>1.000000</td>\n",
       "      <td>-0.620176</td>\n",
       "      <td>0.671958</td>\n",
       "    </tr>\n",
       "    <tr>\n",
       "      <th>carb</th>\n",
       "      <td>0.014966</td>\n",
       "      <td>-0.591802</td>\n",
       "      <td>-0.853542</td>\n",
       "      <td>-0.640238</td>\n",
       "      <td>-0.898988</td>\n",
       "      <td>-0.620176</td>\n",
       "      <td>1.000000</td>\n",
       "      <td>-0.023485</td>\n",
       "    </tr>\n",
       "    <tr>\n",
       "      <th>cal</th>\n",
       "      <td>-0.021209</td>\n",
       "      <td>-0.764441</td>\n",
       "      <td>0.070258</td>\n",
       "      <td>0.764567</td>\n",
       "      <td>0.326468</td>\n",
       "      <td>0.671958</td>\n",
       "      <td>-0.023485</td>\n",
       "      <td>1.000000</td>\n",
       "    </tr>\n",
       "  </tbody>\n",
       "</table>\n",
       "</div>"
      ],
      "text/plain": [
       "              id      mois      prot       fat       ash    sodium      carb  \\\n",
       "id      1.000000  0.032595 -0.076485 -0.004860 -0.034072 -0.015156  0.014966   \n",
       "mois    0.032595  1.000000  0.360248 -0.171318  0.265556 -0.102279 -0.591802   \n",
       "prot   -0.076485  0.360248  1.000000  0.498002  0.823844  0.429130 -0.853542   \n",
       "fat    -0.004860 -0.171318  0.498002  1.000000  0.791634  0.933325 -0.640238   \n",
       "ash    -0.034072  0.265556  0.823844  0.791634  1.000000  0.808122 -0.898988   \n",
       "sodium -0.015156 -0.102279  0.429130  0.933325  0.808122  1.000000 -0.620176   \n",
       "carb    0.014966 -0.591802 -0.853542 -0.640238 -0.898988 -0.620176  1.000000   \n",
       "cal    -0.021209 -0.764441  0.070258  0.764567  0.326468  0.671958 -0.023485   \n",
       "\n",
       "             cal  \n",
       "id     -0.021209  \n",
       "mois   -0.764441  \n",
       "prot    0.070258  \n",
       "fat     0.764567  \n",
       "ash     0.326468  \n",
       "sodium  0.671958  \n",
       "carb   -0.023485  \n",
       "cal     1.000000  "
      ]
     },
     "execution_count": 25,
     "metadata": {},
     "output_type": "execute_result"
    }
   ],
   "source": [
    "r=df.corr()\n",
    "r"
   ]
  },
  {
   "cell_type": "markdown",
   "metadata": {},
   "source": [
    "# Moisture data less than equal to 27"
   ]
  },
  {
   "cell_type": "code",
   "execution_count": 27,
   "metadata": {},
   "outputs": [
    {
     "data": {
      "text/html": [
       "<div>\n",
       "<style scoped>\n",
       "    .dataframe tbody tr th:only-of-type {\n",
       "        vertical-align: middle;\n",
       "    }\n",
       "\n",
       "    .dataframe tbody tr th {\n",
       "        vertical-align: top;\n",
       "    }\n",
       "\n",
       "    .dataframe thead th {\n",
       "        text-align: right;\n",
       "    }\n",
       "</style>\n",
       "<table border=\"1\" class=\"dataframe\">\n",
       "  <thead>\n",
       "    <tr style=\"text-align: right;\">\n",
       "      <th></th>\n",
       "      <th>brand</th>\n",
       "      <th>id</th>\n",
       "      <th>mois</th>\n",
       "      <th>prot</th>\n",
       "      <th>fat</th>\n",
       "      <th>ash</th>\n",
       "      <th>sodium</th>\n",
       "      <th>carb</th>\n",
       "      <th>cal</th>\n",
       "    </tr>\n",
       "  </thead>\n",
       "  <tbody>\n",
       "    <tr>\n",
       "      <th>11</th>\n",
       "      <td>A</td>\n",
       "      <td>14108</td>\n",
       "      <td>26.98</td>\n",
       "      <td>21.20</td>\n",
       "      <td>45.03</td>\n",
       "      <td>5.15</td>\n",
       "      <td>1.67</td>\n",
       "      <td>1.64</td>\n",
       "      <td>4.97</td>\n",
       "    </tr>\n",
       "    <tr>\n",
       "      <th>191</th>\n",
       "      <td>G</td>\n",
       "      <td>14066</td>\n",
       "      <td>26.33</td>\n",
       "      <td>8.03</td>\n",
       "      <td>19.98</td>\n",
       "      <td>1.43</td>\n",
       "      <td>0.45</td>\n",
       "      <td>44.23</td>\n",
       "      <td>3.89</td>\n",
       "    </tr>\n",
       "    <tr>\n",
       "      <th>200</th>\n",
       "      <td>G</td>\n",
       "      <td>24156</td>\n",
       "      <td>26.19</td>\n",
       "      <td>7.99</td>\n",
       "      <td>17.53</td>\n",
       "      <td>1.42</td>\n",
       "      <td>0.44</td>\n",
       "      <td>46.87</td>\n",
       "      <td>3.77</td>\n",
       "    </tr>\n",
       "    <tr>\n",
       "      <th>201</th>\n",
       "      <td>G</td>\n",
       "      <td>34008</td>\n",
       "      <td>26.45</td>\n",
       "      <td>7.89</td>\n",
       "      <td>17.97</td>\n",
       "      <td>1.30</td>\n",
       "      <td>0.39</td>\n",
       "      <td>46.39</td>\n",
       "      <td>3.79</td>\n",
       "    </tr>\n",
       "    <tr>\n",
       "      <th>203</th>\n",
       "      <td>G</td>\n",
       "      <td>24059</td>\n",
       "      <td>25.00</td>\n",
       "      <td>8.49</td>\n",
       "      <td>16.87</td>\n",
       "      <td>1.45</td>\n",
       "      <td>0.47</td>\n",
       "      <td>48.19</td>\n",
       "      <td>3.79</td>\n",
       "    </tr>\n",
       "  </tbody>\n",
       "</table>\n",
       "</div>"
      ],
      "text/plain": [
       "    brand     id   mois   prot    fat   ash  sodium   carb   cal\n",
       "11      A  14108  26.98  21.20  45.03  5.15    1.67   1.64  4.97\n",
       "191     G  14066  26.33   8.03  19.98  1.43    0.45  44.23  3.89\n",
       "200     G  24156  26.19   7.99  17.53  1.42    0.44  46.87  3.77\n",
       "201     G  34008  26.45   7.89  17.97  1.30    0.39  46.39  3.79\n",
       "203     G  24059  25.00   8.49  16.87  1.45    0.47  48.19  3.79"
      ]
     },
     "execution_count": 27,
     "metadata": {},
     "output_type": "execute_result"
    }
   ],
   "source": [
    "df.loc[(df['mois']<=27)]"
   ]
  },
  {
   "cell_type": "markdown",
   "metadata": {},
   "source": [
    "# Protein data greater than equal to 25"
   ]
  },
  {
   "cell_type": "code",
   "execution_count": 31,
   "metadata": {},
   "outputs": [
    {
     "data": {
      "text/html": [
       "<div>\n",
       "<style scoped>\n",
       "    .dataframe tbody tr th:only-of-type {\n",
       "        vertical-align: middle;\n",
       "    }\n",
       "\n",
       "    .dataframe tbody tr th {\n",
       "        vertical-align: top;\n",
       "    }\n",
       "\n",
       "    .dataframe thead th {\n",
       "        text-align: right;\n",
       "    }\n",
       "</style>\n",
       "<table border=\"1\" class=\"dataframe\">\n",
       "  <thead>\n",
       "    <tr style=\"text-align: right;\">\n",
       "      <th></th>\n",
       "      <th>brand</th>\n",
       "      <th>id</th>\n",
       "      <th>mois</th>\n",
       "      <th>prot</th>\n",
       "      <th>fat</th>\n",
       "      <th>ash</th>\n",
       "      <th>sodium</th>\n",
       "      <th>carb</th>\n",
       "      <th>cal</th>\n",
       "    </tr>\n",
       "  </thead>\n",
       "  <tbody>\n",
       "    <tr>\n",
       "      <th>60</th>\n",
       "      <td>C</td>\n",
       "      <td>14058</td>\n",
       "      <td>48.40</td>\n",
       "      <td>26.05</td>\n",
       "      <td>21.40</td>\n",
       "      <td>3.44</td>\n",
       "      <td>0.50</td>\n",
       "      <td>0.71</td>\n",
       "      <td>3.00</td>\n",
       "    </tr>\n",
       "    <tr>\n",
       "      <th>61</th>\n",
       "      <td>C</td>\n",
       "      <td>14022</td>\n",
       "      <td>48.69</td>\n",
       "      <td>28.48</td>\n",
       "      <td>17.37</td>\n",
       "      <td>3.53</td>\n",
       "      <td>0.43</td>\n",
       "      <td>1.93</td>\n",
       "      <td>2.78</td>\n",
       "    </tr>\n",
       "    <tr>\n",
       "      <th>62</th>\n",
       "      <td>C</td>\n",
       "      <td>14036</td>\n",
       "      <td>48.88</td>\n",
       "      <td>25.23</td>\n",
       "      <td>20.89</td>\n",
       "      <td>3.22</td>\n",
       "      <td>0.47</td>\n",
       "      <td>1.78</td>\n",
       "      <td>2.96</td>\n",
       "    </tr>\n",
       "    <tr>\n",
       "      <th>63</th>\n",
       "      <td>C</td>\n",
       "      <td>14093</td>\n",
       "      <td>48.97</td>\n",
       "      <td>25.63</td>\n",
       "      <td>19.28</td>\n",
       "      <td>3.48</td>\n",
       "      <td>0.55</td>\n",
       "      <td>2.64</td>\n",
       "      <td>2.87</td>\n",
       "    </tr>\n",
       "    <tr>\n",
       "      <th>65</th>\n",
       "      <td>C</td>\n",
       "      <td>14029</td>\n",
       "      <td>49.73</td>\n",
       "      <td>25.65</td>\n",
       "      <td>19.98</td>\n",
       "      <td>2.51</td>\n",
       "      <td>0.52</td>\n",
       "      <td>2.13</td>\n",
       "      <td>2.91</td>\n",
       "    </tr>\n",
       "    <tr>\n",
       "      <th>66</th>\n",
       "      <td>C</td>\n",
       "      <td>14106</td>\n",
       "      <td>50.18</td>\n",
       "      <td>28.30</td>\n",
       "      <td>15.79</td>\n",
       "      <td>3.47</td>\n",
       "      <td>0.45</td>\n",
       "      <td>2.26</td>\n",
       "      <td>2.64</td>\n",
       "    </tr>\n",
       "    <tr>\n",
       "      <th>67</th>\n",
       "      <td>C</td>\n",
       "      <td>14014</td>\n",
       "      <td>48.15</td>\n",
       "      <td>27.98</td>\n",
       "      <td>18.69</td>\n",
       "      <td>3.58</td>\n",
       "      <td>0.48</td>\n",
       "      <td>1.70</td>\n",
       "      <td>2.87</td>\n",
       "    </tr>\n",
       "    <tr>\n",
       "      <th>68</th>\n",
       "      <td>C</td>\n",
       "      <td>14073</td>\n",
       "      <td>49.72</td>\n",
       "      <td>27.31</td>\n",
       "      <td>16.89</td>\n",
       "      <td>3.08</td>\n",
       "      <td>0.25</td>\n",
       "      <td>3.00</td>\n",
       "      <td>2.73</td>\n",
       "    </tr>\n",
       "    <tr>\n",
       "      <th>69</th>\n",
       "      <td>C</td>\n",
       "      <td>14151</td>\n",
       "      <td>51.59</td>\n",
       "      <td>26.24</td>\n",
       "      <td>16.41</td>\n",
       "      <td>3.61</td>\n",
       "      <td>0.60</td>\n",
       "      <td>2.15</td>\n",
       "      <td>2.61</td>\n",
       "    </tr>\n",
       "    <tr>\n",
       "      <th>70</th>\n",
       "      <td>C</td>\n",
       "      <td>14162</td>\n",
       "      <td>52.26</td>\n",
       "      <td>26.31</td>\n",
       "      <td>14.77</td>\n",
       "      <td>3.51</td>\n",
       "      <td>0.53</td>\n",
       "      <td>3.15</td>\n",
       "      <td>2.51</td>\n",
       "    </tr>\n",
       "    <tr>\n",
       "      <th>71</th>\n",
       "      <td>C</td>\n",
       "      <td>14139</td>\n",
       "      <td>49.35</td>\n",
       "      <td>25.23</td>\n",
       "      <td>20.03</td>\n",
       "      <td>3.02</td>\n",
       "      <td>0.44</td>\n",
       "      <td>2.37</td>\n",
       "      <td>2.91</td>\n",
       "    </tr>\n",
       "    <tr>\n",
       "      <th>72</th>\n",
       "      <td>C</td>\n",
       "      <td>14115</td>\n",
       "      <td>47.91</td>\n",
       "      <td>26.03</td>\n",
       "      <td>21.54</td>\n",
       "      <td>3.71</td>\n",
       "      <td>0.60</td>\n",
       "      <td>0.81</td>\n",
       "      <td>3.01</td>\n",
       "    </tr>\n",
       "    <tr>\n",
       "      <th>73</th>\n",
       "      <td>C</td>\n",
       "      <td>24006</td>\n",
       "      <td>47.83</td>\n",
       "      <td>25.82</td>\n",
       "      <td>20.79</td>\n",
       "      <td>3.33</td>\n",
       "      <td>0.54</td>\n",
       "      <td>2.23</td>\n",
       "      <td>2.99</td>\n",
       "    </tr>\n",
       "    <tr>\n",
       "      <th>74</th>\n",
       "      <td>C</td>\n",
       "      <td>24020</td>\n",
       "      <td>47.90</td>\n",
       "      <td>25.55</td>\n",
       "      <td>21.10</td>\n",
       "      <td>3.04</td>\n",
       "      <td>0.43</td>\n",
       "      <td>2.41</td>\n",
       "      <td>3.02</td>\n",
       "    </tr>\n",
       "    <tr>\n",
       "      <th>77</th>\n",
       "      <td>C</td>\n",
       "      <td>24043</td>\n",
       "      <td>52.19</td>\n",
       "      <td>26.00</td>\n",
       "      <td>16.64</td>\n",
       "      <td>4.17</td>\n",
       "      <td>0.61</td>\n",
       "      <td>1.00</td>\n",
       "      <td>2.58</td>\n",
       "    </tr>\n",
       "    <tr>\n",
       "      <th>78</th>\n",
       "      <td>C</td>\n",
       "      <td>24152</td>\n",
       "      <td>47.11</td>\n",
       "      <td>26.17</td>\n",
       "      <td>21.29</td>\n",
       "      <td>3.36</td>\n",
       "      <td>0.48</td>\n",
       "      <td>2.07</td>\n",
       "      <td>3.05</td>\n",
       "    </tr>\n",
       "    <tr>\n",
       "      <th>79</th>\n",
       "      <td>C</td>\n",
       "      <td>24144</td>\n",
       "      <td>48.48</td>\n",
       "      <td>26.76</td>\n",
       "      <td>19.99</td>\n",
       "      <td>3.64</td>\n",
       "      <td>0.46</td>\n",
       "      <td>1.13</td>\n",
       "      <td>2.91</td>\n",
       "    </tr>\n",
       "    <tr>\n",
       "      <th>80</th>\n",
       "      <td>C</td>\n",
       "      <td>24135</td>\n",
       "      <td>52.22</td>\n",
       "      <td>26.25</td>\n",
       "      <td>16.45</td>\n",
       "      <td>3.92</td>\n",
       "      <td>0.38</td>\n",
       "      <td>1.16</td>\n",
       "      <td>2.58</td>\n",
       "    </tr>\n",
       "    <tr>\n",
       "      <th>81</th>\n",
       "      <td>C</td>\n",
       "      <td>24124</td>\n",
       "      <td>49.57</td>\n",
       "      <td>26.91</td>\n",
       "      <td>18.00</td>\n",
       "      <td>2.21</td>\n",
       "      <td>0.41</td>\n",
       "      <td>3.31</td>\n",
       "      <td>2.83</td>\n",
       "    </tr>\n",
       "    <tr>\n",
       "      <th>83</th>\n",
       "      <td>C</td>\n",
       "      <td>24058</td>\n",
       "      <td>49.27</td>\n",
       "      <td>27.42</td>\n",
       "      <td>17.42</td>\n",
       "      <td>3.05</td>\n",
       "      <td>0.33</td>\n",
       "      <td>2.84</td>\n",
       "      <td>2.78</td>\n",
       "    </tr>\n",
       "    <tr>\n",
       "      <th>85</th>\n",
       "      <td>C</td>\n",
       "      <td>34010</td>\n",
       "      <td>50.98</td>\n",
       "      <td>26.34</td>\n",
       "      <td>16.47</td>\n",
       "      <td>3.20</td>\n",
       "      <td>0.43</td>\n",
       "      <td>3.01</td>\n",
       "      <td>2.66</td>\n",
       "    </tr>\n",
       "    <tr>\n",
       "      <th>86</th>\n",
       "      <td>C</td>\n",
       "      <td>34003</td>\n",
       "      <td>49.57</td>\n",
       "      <td>25.46</td>\n",
       "      <td>20.79</td>\n",
       "      <td>3.04</td>\n",
       "      <td>0.37</td>\n",
       "      <td>1.14</td>\n",
       "      <td>2.94</td>\n",
       "    </tr>\n",
       "    <tr>\n",
       "      <th>95</th>\n",
       "      <td>D</td>\n",
       "      <td>14004</td>\n",
       "      <td>49.16</td>\n",
       "      <td>27.99</td>\n",
       "      <td>17.49</td>\n",
       "      <td>3.29</td>\n",
       "      <td>0.39</td>\n",
       "      <td>2.07</td>\n",
       "      <td>2.78</td>\n",
       "    </tr>\n",
       "    <tr>\n",
       "      <th>118</th>\n",
       "      <td>D</td>\n",
       "      <td>24043</td>\n",
       "      <td>52.19</td>\n",
       "      <td>26.00</td>\n",
       "      <td>16.64</td>\n",
       "      <td>4.17</td>\n",
       "      <td>0.61</td>\n",
       "      <td>1.00</td>\n",
       "      <td>2.58</td>\n",
       "    </tr>\n",
       "  </tbody>\n",
       "</table>\n",
       "</div>"
      ],
      "text/plain": [
       "    brand     id   mois   prot    fat   ash  sodium  carb   cal\n",
       "60      C  14058  48.40  26.05  21.40  3.44    0.50  0.71  3.00\n",
       "61      C  14022  48.69  28.48  17.37  3.53    0.43  1.93  2.78\n",
       "62      C  14036  48.88  25.23  20.89  3.22    0.47  1.78  2.96\n",
       "63      C  14093  48.97  25.63  19.28  3.48    0.55  2.64  2.87\n",
       "65      C  14029  49.73  25.65  19.98  2.51    0.52  2.13  2.91\n",
       "66      C  14106  50.18  28.30  15.79  3.47    0.45  2.26  2.64\n",
       "67      C  14014  48.15  27.98  18.69  3.58    0.48  1.70  2.87\n",
       "68      C  14073  49.72  27.31  16.89  3.08    0.25  3.00  2.73\n",
       "69      C  14151  51.59  26.24  16.41  3.61    0.60  2.15  2.61\n",
       "70      C  14162  52.26  26.31  14.77  3.51    0.53  3.15  2.51\n",
       "71      C  14139  49.35  25.23  20.03  3.02    0.44  2.37  2.91\n",
       "72      C  14115  47.91  26.03  21.54  3.71    0.60  0.81  3.01\n",
       "73      C  24006  47.83  25.82  20.79  3.33    0.54  2.23  2.99\n",
       "74      C  24020  47.90  25.55  21.10  3.04    0.43  2.41  3.02\n",
       "77      C  24043  52.19  26.00  16.64  4.17    0.61  1.00  2.58\n",
       "78      C  24152  47.11  26.17  21.29  3.36    0.48  2.07  3.05\n",
       "79      C  24144  48.48  26.76  19.99  3.64    0.46  1.13  2.91\n",
       "80      C  24135  52.22  26.25  16.45  3.92    0.38  1.16  2.58\n",
       "81      C  24124  49.57  26.91  18.00  2.21    0.41  3.31  2.83\n",
       "83      C  24058  49.27  27.42  17.42  3.05    0.33  2.84  2.78\n",
       "85      C  34010  50.98  26.34  16.47  3.20    0.43  3.01  2.66\n",
       "86      C  34003  49.57  25.46  20.79  3.04    0.37  1.14  2.94\n",
       "95      D  14004  49.16  27.99  17.49  3.29    0.39  2.07  2.78\n",
       "118     D  24043  52.19  26.00  16.64  4.17    0.61  1.00  2.58"
      ]
     },
     "execution_count": 31,
     "metadata": {},
     "output_type": "execute_result"
    }
   ],
   "source": [
    "df.loc[(df['prot']>=25)]"
   ]
  },
  {
   "cell_type": "markdown",
   "metadata": {},
   "source": [
    "# Map string value into Int value"
   ]
  },
  {
   "cell_type": "code",
   "execution_count": 33,
   "metadata": {},
   "outputs": [
    {
     "data": {
      "text/html": [
       "<div>\n",
       "<style scoped>\n",
       "    .dataframe tbody tr th:only-of-type {\n",
       "        vertical-align: middle;\n",
       "    }\n",
       "\n",
       "    .dataframe tbody tr th {\n",
       "        vertical-align: top;\n",
       "    }\n",
       "\n",
       "    .dataframe thead th {\n",
       "        text-align: right;\n",
       "    }\n",
       "</style>\n",
       "<table border=\"1\" class=\"dataframe\">\n",
       "  <thead>\n",
       "    <tr style=\"text-align: right;\">\n",
       "      <th></th>\n",
       "      <th>brand</th>\n",
       "      <th>id</th>\n",
       "      <th>mois</th>\n",
       "      <th>prot</th>\n",
       "      <th>fat</th>\n",
       "      <th>ash</th>\n",
       "      <th>sodium</th>\n",
       "      <th>carb</th>\n",
       "      <th>cal</th>\n",
       "    </tr>\n",
       "  </thead>\n",
       "  <tbody>\n",
       "    <tr>\n",
       "      <th>0</th>\n",
       "      <td>1</td>\n",
       "      <td>14069</td>\n",
       "      <td>27.82</td>\n",
       "      <td>21.43</td>\n",
       "      <td>44.87</td>\n",
       "      <td>5.11</td>\n",
       "      <td>1.77</td>\n",
       "      <td>0.77</td>\n",
       "      <td>4.93</td>\n",
       "    </tr>\n",
       "    <tr>\n",
       "      <th>1</th>\n",
       "      <td>1</td>\n",
       "      <td>14053</td>\n",
       "      <td>28.49</td>\n",
       "      <td>21.26</td>\n",
       "      <td>43.89</td>\n",
       "      <td>5.34</td>\n",
       "      <td>1.79</td>\n",
       "      <td>1.02</td>\n",
       "      <td>4.84</td>\n",
       "    </tr>\n",
       "    <tr>\n",
       "      <th>2</th>\n",
       "      <td>1</td>\n",
       "      <td>14025</td>\n",
       "      <td>28.35</td>\n",
       "      <td>19.99</td>\n",
       "      <td>45.78</td>\n",
       "      <td>5.08</td>\n",
       "      <td>1.63</td>\n",
       "      <td>0.80</td>\n",
       "      <td>4.95</td>\n",
       "    </tr>\n",
       "    <tr>\n",
       "      <th>3</th>\n",
       "      <td>1</td>\n",
       "      <td>14016</td>\n",
       "      <td>30.55</td>\n",
       "      <td>20.15</td>\n",
       "      <td>43.13</td>\n",
       "      <td>4.79</td>\n",
       "      <td>1.61</td>\n",
       "      <td>1.38</td>\n",
       "      <td>4.74</td>\n",
       "    </tr>\n",
       "    <tr>\n",
       "      <th>4</th>\n",
       "      <td>1</td>\n",
       "      <td>14005</td>\n",
       "      <td>30.49</td>\n",
       "      <td>21.28</td>\n",
       "      <td>41.65</td>\n",
       "      <td>4.82</td>\n",
       "      <td>1.64</td>\n",
       "      <td>1.76</td>\n",
       "      <td>4.67</td>\n",
       "    </tr>\n",
       "  </tbody>\n",
       "</table>\n",
       "</div>"
      ],
      "text/plain": [
       "   brand     id   mois   prot    fat   ash  sodium  carb   cal\n",
       "0      1  14069  27.82  21.43  44.87  5.11    1.77  0.77  4.93\n",
       "1      1  14053  28.49  21.26  43.89  5.34    1.79  1.02  4.84\n",
       "2      1  14025  28.35  19.99  45.78  5.08    1.63  0.80  4.95\n",
       "3      1  14016  30.55  20.15  43.13  4.79    1.61  1.38  4.74\n",
       "4      1  14005  30.49  21.28  41.65  4.82    1.64  1.76  4.67"
      ]
     },
     "execution_count": 33,
     "metadata": {},
     "output_type": "execute_result"
    }
   ],
   "source": [
    "df['brand']=df['brand'].map({'A':1,'B':2,'C':3,'D':4,'E':5,'F':6,'G':7,'H':8,'I':9,'J':10})\n",
    "df.head()"
   ]
  },
  {
   "cell_type": "code",
   "execution_count": 54,
   "metadata": {},
   "outputs": [],
   "source": [
    "X=df.drop(['brand'],axis=1)\n",
    "y= df['brand']"
   ]
  },
  {
   "cell_type": "code",
   "execution_count": 55,
   "metadata": {},
   "outputs": [],
   "source": [
    "scaler = StandardScaler()\n",
    "scaler.fit(X)\n",
    "X_std = scaler.transform(X)"
   ]
  },
  {
   "cell_type": "markdown",
   "metadata": {},
   "source": [
    "# Covariance Matrix"
   ]
  },
  {
   "cell_type": "code",
   "execution_count": 57,
   "metadata": {},
   "outputs": [
    {
     "name": "stdout",
     "output_type": "stream",
     "text": [
      "Numpy covariance matrix: \n",
      "[[ 1.00334448  0.03270407 -0.07674126 -0.00487631 -0.03418551 -0.01520677\n",
      "   0.0150162  -0.02127955]\n",
      " [ 0.03270407  1.00334448  0.36145252 -0.17189118  0.26644367 -0.10262097\n",
      "  -0.59378092 -0.7669972 ]\n",
      " [-0.07674126  0.36145252  1.00334448  0.49966723  0.82659903  0.43056473\n",
      "  -0.85639691  0.07049308]\n",
      " [-0.00487631 -0.17189118  0.49966723  1.00334448  0.79428157  0.93644671\n",
      "  -0.64237943  0.76712418]\n",
      " [-0.03418551  0.26644367  0.82659903  0.79428157  1.00334448  0.8108249\n",
      "  -0.90199502  0.32756032]\n",
      " [-0.01520677 -0.10262097  0.43056473  0.93644671  0.8108249   1.00334448\n",
      "  -0.6222505   0.67420485]\n",
      " [ 0.0150162  -0.59378092 -0.85639691 -0.64237943 -0.90199502 -0.6222505\n",
      "   1.00334448 -0.02356313]\n",
      " [-0.02127955 -0.7669972   0.07049308  0.76712418  0.32756032  0.67420485\n",
      "  -0.02356313  1.00334448]]\n"
     ]
    }
   ],
   "source": [
    "print(\"Numpy covariance matrix: \\n%s\" %np.cov(X_std.T))"
   ]
  },
  {
   "cell_type": "markdown",
   "metadata": {},
   "source": [
    "# Explained variance"
   ]
  },
  {
   "cell_type": "code",
   "execution_count": 59,
   "metadata": {},
   "outputs": [
    {
     "data": {
      "image/png": "[encoded data removed]",
      "text/plain": [
       "<Figure size 432x288 with 1 Axes>"
      ]
     },
     "metadata": {
      "needs_background": "light"
     },
     "output_type": "display_data"
    }
   ],
   "source": [
    "pca = PCA().fit(X_std)\n",
    "plt.plot(np.cumsum(pca.explained_variance_ratio_))\n",
    "plt.xlabel('Number of componenets')\n",
    "plt.ylabel('Cumulative explained variance')\n",
    "plt.show()"
   ]
  },
  {
   "cell_type": "code",
   "execution_count": 67,
   "metadata": {},
   "outputs": [
    {
     "name": "stdout",
     "output_type": "stream",
     "text": [
      "[0.52163044 0.28631263 0.12583943 0.05088936 0.01184847]\n"
     ]
    }
   ],
   "source": [
    "pca = PCA(n_components=5)\n",
    "x_pca = pca.fit_transform(X_std)\n",
    "print(pca.explained_variance_ratio_)"
   ]
  },
  {
   "cell_type": "code",
   "execution_count": 70,
   "metadata": {},
   "outputs": [
    {
     "name": "stdout",
     "output_type": "stream",
     "text": [
      "[0.52163044 0.28631263 0.12583943 0.05088936 0.01184847 0.00343629]\n"
     ]
    }
   ],
   "source": [
    "pca = PCA(n_components=6)\n",
    "x_pca = pca.fit_transform(X_std)\n",
    "print(pca.explained_variance_ratio_)"
   ]
  },
  {
   "cell_type": "code",
   "execution_count": 71,
   "metadata": {},
   "outputs": [
    {
     "data": {
      "text/plain": [
       "(300, 6)"
      ]
     },
     "execution_count": 71,
     "metadata": {},
     "output_type": "execute_result"
    }
   ],
   "source": [
    "x_pca.shape"
   ]
  },
  {
   "cell_type": "code",
   "execution_count": 72,
   "metadata": {},
   "outputs": [
    {
     "data": {
      "text/plain": [
       "array([[-1.99403012e-02,  6.44785509e-02,  3.78951071e-01,\n",
       "         4.46467403e-01,  4.71813825e-01,  4.35550982e-01,\n",
       "        -4.24755778e-01,  2.44494235e-01],\n",
       "       [-5.81763147e-03, -6.28375256e-01, -2.69609639e-01,\n",
       "         2.34215299e-01, -1.11065055e-01,  2.01521828e-01,\n",
       "         3.20416546e-01,  5.67407501e-01],\n",
       "       [ 9.93250052e-01,  4.89635165e-02, -8.22473744e-02,\n",
       "         4.52319845e-02,  3.45464203e-04,  4.33743722e-02,\n",
       "        -1.89923636e-02,  2.04451116e-03],\n",
       "       [ 1.11331687e-01, -4.17773426e-01,  7.40512315e-01,\n",
       "        -1.93036121e-01,  5.57179039e-02, -4.56740689e-01,\n",
       "         4.90903283e-02,  1.15424367e-01],\n",
       "       [ 2.07984566e-02, -2.22559480e-01, -8.86180970e-03,\n",
       "        -5.06869519e-01,  5.55431191e-01,  4.41865186e-01,\n",
       "         3.34420063e-01, -2.78305646e-01],\n",
       "       [ 1.39813075e-02,  4.55739129e-03,  3.89773631e-01,\n",
       "        -1.75580059e-01, -6.68467507e-01,  6.03270611e-01,\n",
       "        -6.06485193e-03, -7.88092216e-02]])"
      ]
     },
     "execution_count": 72,
     "metadata": {},
     "output_type": "execute_result"
    }
   ],
   "source": [
    "pca.components_"
   ]
  },
  {
   "cell_type": "code",
   "execution_count": 79,
   "metadata": {},
   "outputs": [
    {
     "data": {
      "text/plain": [
       "array([[ 5.0290028 ,  2.68386611, -0.85499716, -0.13904872,  0.12427145,\n",
       "         0.27201563],\n",
       "       [ 5.04244094,  2.53395472, -0.85476593, -0.19783697,  0.33404799,\n",
       "         0.20390771],\n",
       "       [ 4.82420967,  2.6783973 , -0.85192936, -0.17314067, -0.12660662,\n",
       "        -0.04818779],\n",
       "       ...,\n",
       "       [-0.68430956, -0.52640653,  1.90565247, -0.15994761,  0.28669747,\n",
       "         0.07000347],\n",
       "       [-0.84564583, -0.91601339, -0.94092664, -0.60230735,  0.10465491,\n",
       "        -0.03893425],\n",
       "       [-0.87643463, -0.76210708, -0.9361534 , -0.63831071,  0.09133658,\n",
       "        -0.04114087]])"
      ]
     },
     "execution_count": 79,
     "metadata": {},
     "output_type": "execute_result"
    }
   ],
   "source": [
    "x_pca"
   ]
  },
  {
   "cell_type": "markdown",
   "metadata": {},
   "source": [
    "# Scatter plots "
   ]
  },
  {
   "cell_type": "code",
   "execution_count": 73,
   "metadata": {},
   "outputs": [
    {
     "data": {
      "image/png": "[encoded data removed]",
      "text/plain": [
       "<Figure size 576x432 with 2 Axes>"
      ]
     },
     "metadata": {
      "needs_background": "light"
     },
     "output_type": "display_data"
    }
   ],
   "source": [
    "plt.figure(figsize=(8,6))\n",
    "plt.scatter(x_pca[:,0],x_pca[:,1],c=df['brand'], alpha =0.8,cmap = plt.cm.get_cmap('Spectral',10))\n",
    "\n",
    "plt.xlabel('First Principal component')\n",
    "plt.ylabel('Second Principal component')\n",
    "\n",
    "plt.colorbar();"
   ]
  },
  {
   "cell_type": "code",
   "execution_count": 74,
   "metadata": {},
   "outputs": [
    {
     "data": {
      "image/png": "[encoded data removed]",
      "text/plain": [
       "<Figure size 576x432 with 2 Axes>"
      ]
     },
     "metadata": {
      "needs_background": "light"
     },
     "output_type": "display_data"
    }
   ],
   "source": [
    "plt.figure(figsize=(8,6))\n",
    "plt.scatter(x_pca[:,0],x_pca[:,2],c=df['brand'], alpha =0.8,cmap = plt.cm.get_cmap('Spectral',10))\n",
    "\n",
    "plt.xlabel('First Principal component')\n",
    "plt.ylabel('Second Principal component')\n",
    "\n",
    "plt.colorbar();"
   ]
  },
  {
   "cell_type": "code",
   "execution_count": 76,
   "metadata": {},
   "outputs": [
    {
     "data": {
      "image/png": "[encoded data removed]",
      "text/plain": [
       "<Figure size 576x432 with 2 Axes>"
      ]
     },
     "metadata": {
      "needs_background": "light"
     },
     "output_type": "display_data"
    }
   ],
   "source": [
    "plt.figure(figsize=(8,6))\n",
    "plt.scatter(x_pca[:,0],x_pca[:,3],c=df['brand'], alpha =0.8,cmap = plt.cm.get_cmap('Spectral',10))\n",
    "\n",
    "plt.xlabel('First Principal component')\n",
    "plt.ylabel('Second Principal component')\n",
    "\n",
    "plt.colorbar();"
   ]
  },
  {
   "cell_type": "code",
   "execution_count": 77,
   "metadata": {},
   "outputs": [
    {
     "data": {
      "image/png": "[encoded data removed]",
      "text/plain": [
       "<Figure size 576x432 with 2 Axes>"
      ]
     },
     "metadata": {
      "needs_background": "light"
     },
     "output_type": "display_data"
    }
   ],
   "source": [
    "plt.figure(figsize=(8,6))\n",
    "plt.scatter(x_pca[:,0],x_pca[:,4],c=df['brand'], alpha =0.8,cmap = plt.cm.get_cmap('Spectral',10))\n",
    "\n",
    "plt.xlabel('First Principal component')\n",
    "plt.ylabel('Second Principal component')\n",
    "\n",
    "plt.colorbar();"
   ]
  },
  {
   "cell_type": "code",
   "execution_count": 80,
   "metadata": {},
   "outputs": [
    {
     "data": {
      "text/plain": [
       "<matplotlib.image.AxesImage at 0x1f95f86ad60>"
      ]
     },
     "execution_count": 80,
     "metadata": {},
     "output_type": "execute_result"
    },
    {
     "data": {
      "image/png": "[encoded data removed]",
      "text/plain": [
       "<Figure size 384x288 with 1 Axes>"
      ]
     },
     "metadata": {
      "needs_background": "light"
     },
     "output_type": "display_data"
    }
   ],
   "source": [
    "plt.matshow(pca.components_)"
   ]
  },
  {
   "cell_type": "code",
   "execution_count": null,
   "metadata": {},
   "outputs": [],
   "source": []
  },
  {
   "cell_type": "code",
   "execution_count": null,
   "metadata": {},
   "outputs": [],
   "source": []
  }
 ],
 "metadata": {
  "kernelspec": {
   "display_name": "Python 3",
   "language": "python",
   "name": "python3"
  },
  "language_info": {
   "codemirror_mode": {
    "name": "ipython",
    "version": 3
   },
   "file_extension": ".py",
   "mimetype": "text/x-python",
   "name": "python",
   "nbconvert_exporter": "python",
   "pygments_lexer": "ipython3",
   "version": "3.8.5"
  }
 },
 "nbformat": 4,
 "nbformat_minor": 4
}
